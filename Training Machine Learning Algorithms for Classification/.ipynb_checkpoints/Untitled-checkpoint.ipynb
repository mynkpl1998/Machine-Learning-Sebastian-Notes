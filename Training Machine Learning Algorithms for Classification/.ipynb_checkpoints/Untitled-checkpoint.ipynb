{
 "cells": [
  {
   "cell_type": "markdown",
   "metadata": {},
   "source": [
    "# Artificial Neuron / Perceptron\n",
    "\n",
    "Perceptron is like a nerve cell at which multiple input arrives and if the accumulated signal is greater than certain thershold an output signal is generated that will be passed by the axon of the neuron.\n",
    "\n",
    "<img src=\"first.png\" alt=\"Drawing\" style=\"width: 400px;\"/>\n",
    "\n",
    "Perceptron is an rule/algortihm which learns the optimal weights that are then multiplied by the input features in order to make decision whether the neuron will fire or not. \n",
    "In the context of binary classification problem we refer to two classes 1(positive class) and -1 (negative class). o(z) (phi z) is an activation function which takes linear combination of weights multiplied by input features as the input. z is also called as net input\n",
    "\n",
    "Net input, $ z = w1\\cdot x1 + w2\\cdot x2 + ..... + wm\\cdot xm$ \n",
    "\n",
    "W, weight matrix is given by \n",
    "$W = \\begin{bmatrix} w1& \\\\ . & \\\\ . & \\\\ . & \\\\ wm \\end{bmatrix}$ \n",
    "\n",
    "\n",
    "Input vector x is given by $X = \\begin{bmatrix} x1& \\\\ . & \\\\ . & \\\\ . & \\\\ xm \\end{bmatrix}$ \n",
    "\n",
    "If the activation(net input) of a particular sample **x(i)** is greater than certain thershold $\\Theta$ , we predict class 1 else class -1 otherwise activation function in perceptron algorithm is $\\Phi \\left ( . \\right )$  which is ** unit step function **\n",
    "\n",
    "Activation Function, $\\Phi \\left ( z \\right ) = \\begin{cases} 1 & \\text{ if } z\\geqslant \\Theta \\\\ -1 & \\text{ if } otherwise \\end{cases}$ \n",
    "\n",
    "We define zero weight as $w0 = - \\Theta$  and $x0 = 1$, So net input becomes.\n",
    "$ z = w0\\cdot x0 + w1\\cdot x1 + w2\\cdot x2 + ..... + wm\\cdot xm$ . This can be further decomposed into the simple mathematical form,\n",
    "\n",
    "$z = w0\\cdot x0 + w1\\cdot x1 + .... + wm\\cdot xm = \\sum_{j=0}^{m} xj\\cdot wj = w^T \\cdot x$\n",
    "\n",
    "$ z = w^T \\cdot x$ Here, T represents transpose and dot means the dot product of Weight Vector and Input Feature Vector\n",
    "\n",
    "For Example, $\\begin{bmatrix} 1 & 2 & 3 \\end{bmatrix} \\times \\begin{bmatrix} 4\\\\ 5\\\\ 6 \\\\ \\end{bmatrix} = 1 \\times 4 + 2 \\times 5 + 3 \\times 6 = 32$  \n",
    "\n",
    "The figure belows shows how the activation function squashed the net input(taken as input to the function) into 1 and -1 and right figures show how we can use perceptron algorithm to seperate the linearly seperable classes.\n",
    "\n",
    "<img src=\"second.jpg\" alt=\"Drawing\" style=\"width: 400px;\"/>\n",
    "\n"
   ]
  },
  {
   "cell_type": "markdown",
   "metadata": {},
   "source": [
    "# Perceptron Algorithm\n",
    "\n",
    "1. Initialize the weights to 0 or small random numbers\n",
    "2. For each training sample $ x^i $ perform the following steps:\n",
    "      1. Compute the output value $ y^- $\n",
    "      2. Update the weights \n",
    "\n",
    "Here the output value is the class label predicted by the unit step function or activation function and the weight update of each sample is given by the equation \n",
    "\n",
    "$wj = wj + \\Delta wj$\n",
    "\n",
    "The value of $ \\Delta wj $ is used to update the weight vector $ wj $, calculated by the following rule :\n",
    "\n",
    "$\\Delta wj = \\eta \\left ( y^i - \\left (y^-\\right )^i \\right ) xj^i$ , Here $ j $ represent the feature and $i$ represent the sample\n",
    "\n",
    "* In above equation the $ \\eta $ is the learning rate ( a constant between 0.0 and 1.0)\n",
    "* $ y^i $ is the true class lablel of $ i $ th training sample (correct/actual output)\n",
    "\n",
    "### Note : we compute output $ y^- $ first than the weight update process is done\n",
    "\n",
    "Weight update for the 2D dataset is like this :\n",
    "\n",
    "1. $\\Delta w0 = \\eta \\left ( y^i - output^i \\right ).1$ \n",
    "2. $\\Delta w1 = \\eta \\left ( y^i - output^i \\right ).x1^i$ \n",
    "3. $\\Delta w2 = \\eta \\left ( y^i - output^i \\right ).x2^i$ \n",
    "\n",
    "#### When the output is predicted correctly by the algorithm then the weight update $ \\Delta wj $ is zero \n",
    "\n",
    "* $\\Delta wj = \\eta \\left ( 1^i - 1^i \\right )xj^i = 0$\n",
    "* $\\Delta wj = \\eta \\left ( -1^i - (-1^i) \\right )xj^i = 0$ \n",
    "\n",
    "#### When the output is predicted incorrectly by the algorithm then the weight update $ \\Delta wj $ would be non zero...\n",
    "\n",
    "* $\\Delta wj = \\eta \\left ( -1^i - 1^i \\right )xj^i = \\eta \\left ( -2 \\right )xj^i$ \n",
    "\n",
    "## Note : The convergence of perceptron algorithm is only guaranteed if two classes are linearly seperable and learning rate is sufficiently small.\n",
    "\n",
    "<img src=\"third.jpg\" alt=\"Drawing\" style=\"width: 500px;\"/>\n",
    "\n",
    "\n",
    "### Summary \n",
    "\n",
    "<img src=\"fourth.jpg\" alt=\"Drawing\" style=\"width: 600px;\"/>\n",
    "\n",
    "The perceptron recives the input of sample $ x $ and multiples with weights vector $w$ and then add them all ,which gives the net input $z$, which is then passed to activation function which predicts the output and the result is used to update the weights vector."
   ]
  },
  {
   "cell_type": "markdown",
   "metadata": {},
   "source": [
    "# Implementation of perceptron learning Algorithm\n",
    "\n"
   ]
  },
  {
   "cell_type": "code",
   "execution_count": 8,
   "metadata": {
    "collapsed": true
   },
   "outputs": [],
   "source": [
    "import numpy as np\n",
    "\n",
    "\n",
    "class Perceptron(object):\n",
    "    \"\"\"Perceptron classifier.\n",
    "\n",
    "    Parameters\n",
    "    ------------\n",
    "    eta : float\n",
    "        Learning rate (between 0.0 and 1.0)\n",
    "    n_iter : int\n",
    "        Passes over the training dataset.\n",
    "\n",
    "    Attributes\n",
    "    -----------\n",
    "    w_ : 1d-array\n",
    "        Weights after fitting.\n",
    "    errors_ : list\n",
    "        Number of misclassifications (updates) in each epoch.\n",
    "\n",
    "    \"\"\"\n",
    "    def __init__(self, eta=0.01, n_iter=10):\n",
    "        self.eta = eta\n",
    "        self.n_iter = n_iter\n",
    "\n",
    "    def fit(self, X, y):\n",
    "        \"\"\"Fit training data.\n",
    "\n",
    "        Parameters\n",
    "        ----------\n",
    "        X : {array-like}, shape = [n_samples, n_features]\n",
    "            Training vectors, where n_samples is the number of samples and\n",
    "            n_features is the number of features.\n",
    "        y : array-like, shape = [n_samples]\n",
    "            Target values.\n",
    "\n",
    "        Returns\n",
    "        -------\n",
    "        self : object\n",
    "\n",
    "        \"\"\"\n",
    "        self.w_ = np.zeros(1 + X.shape[1])\n",
    "        self.errors_ = []\n",
    "\n",
    "        for _ in range(self.n_iter):\n",
    "            errors = 0\n",
    "            for xi, target in zip(X, y):\n",
    "                update = self.eta * (target - self.predict(xi))\n",
    "                self.w_[1:] += update * xi\n",
    "                self.w_[0] += update\n",
    "                errors += int(update != 0.0)\n",
    "            self.errors_.append(errors)\n",
    "        return self\n",
    "\n",
    "    def net_input(self, X):\n",
    "        \"\"\"Calculate net input\"\"\"\n",
    "        return np.dot(X, self.w_[1:]) + self.w_[0]\n",
    "\n",
    "    def predict(self, X):\n",
    "        \"\"\"Return class label after unit step\"\"\"\n",
    "        return np.where(self.net_input(X) >= 0.0, 1, -1)"
   ]
  },
  {
   "cell_type": "markdown",
   "metadata": {},
   "source": [
    "Above we created a class ** Perceptron ** which on intialization of object of this class set learning rate and epoch, number of passes over the training set. After that we define function fit which first creates the weight vector of xeros and errors list. It iterates over the samples of data set and updates the weight vector since feature zero is one we update the corresponding weight seperatly for that. After updating for each sample we append the update error to the self.errors list. net_input is used to find the dot product of featurs and weight vector and predict is used to give prediction based on the input features passed to it.\n"
   ]
  },
  {
   "cell_type": "markdown",
   "metadata": {},
   "source": [
    "# Training on perceptron model on the Iris dataset\n",
    "\n",
    "Iris dataset has three classes but we will load the following two classes only so that it will be a binary classification\n",
    "\n",
    "* Setosa\n",
    "* Versicolor\n",
    "\n"
   ]
  },
  {
   "cell_type": "code",
   "execution_count": 5,
   "metadata": {},
   "outputs": [
    {
     "data": {
      "text/html": [
       "<div>\n",
       "<style>\n",
       "    .dataframe thead tr:only-child th {\n",
       "        text-align: right;\n",
       "    }\n",
       "\n",
       "    .dataframe thead th {\n",
       "        text-align: left;\n",
       "    }\n",
       "\n",
       "    .dataframe tbody tr th {\n",
       "        vertical-align: top;\n",
       "    }\n",
       "</style>\n",
       "<table border=\"1\" class=\"dataframe\">\n",
       "  <thead>\n",
       "    <tr style=\"text-align: right;\">\n",
       "      <th></th>\n",
       "      <th>0</th>\n",
       "      <th>1</th>\n",
       "      <th>2</th>\n",
       "      <th>3</th>\n",
       "      <th>4</th>\n",
       "    </tr>\n",
       "  </thead>\n",
       "  <tbody>\n",
       "    <tr>\n",
       "      <th>145</th>\n",
       "      <td>6.7</td>\n",
       "      <td>3.0</td>\n",
       "      <td>5.2</td>\n",
       "      <td>2.3</td>\n",
       "      <td>Iris-virginica</td>\n",
       "    </tr>\n",
       "    <tr>\n",
       "      <th>146</th>\n",
       "      <td>6.3</td>\n",
       "      <td>2.5</td>\n",
       "      <td>5.0</td>\n",
       "      <td>1.9</td>\n",
       "      <td>Iris-virginica</td>\n",
       "    </tr>\n",
       "    <tr>\n",
       "      <th>147</th>\n",
       "      <td>6.5</td>\n",
       "      <td>3.0</td>\n",
       "      <td>5.2</td>\n",
       "      <td>2.0</td>\n",
       "      <td>Iris-virginica</td>\n",
       "    </tr>\n",
       "    <tr>\n",
       "      <th>148</th>\n",
       "      <td>6.2</td>\n",
       "      <td>3.4</td>\n",
       "      <td>5.4</td>\n",
       "      <td>2.3</td>\n",
       "      <td>Iris-virginica</td>\n",
       "    </tr>\n",
       "    <tr>\n",
       "      <th>149</th>\n",
       "      <td>5.9</td>\n",
       "      <td>3.0</td>\n",
       "      <td>5.1</td>\n",
       "      <td>1.8</td>\n",
       "      <td>Iris-virginica</td>\n",
       "    </tr>\n",
       "  </tbody>\n",
       "</table>\n",
       "</div>"
      ],
      "text/plain": [
       "       0    1    2    3               4\n",
       "145  6.7  3.0  5.2  2.3  Iris-virginica\n",
       "146  6.3  2.5  5.0  1.9  Iris-virginica\n",
       "147  6.5  3.0  5.2  2.0  Iris-virginica\n",
       "148  6.2  3.4  5.4  2.3  Iris-virginica\n",
       "149  5.9  3.0  5.1  1.8  Iris-virginica"
      ]
     },
     "execution_count": 5,
     "metadata": {},
     "output_type": "execute_result"
    }
   ],
   "source": [
    "import pandas as pd\n",
    "df = pd.read_csv('https://archive.ics.uci.edu/ml/machine-learning-databases/iris/iris.data',header=None)\n",
    "df.tail()"
   ]
  },
  {
   "cell_type": "code",
   "execution_count": 10,
   "metadata": {},
   "outputs": [
    {
     "data": {
      "image/png": "[encoded data removed]",
      "text/plain": [
       "<matplotlib.figure.Figure at 0x7fc6311b55f8>"
      ]
     },
     "metadata": {},
     "output_type": "display_data"
    }
   ],
   "source": [
    "# Now we extract only the first 100 class labels where first 50 are of Setosa and 50 to 100 are of Versicolor\n",
    "# Then Assigning the 1 to Versicolor and -1 to Setosa\n",
    "%matplotlib inline\n",
    "import matplotlib\n",
    "import matplotlib.pyplot as plt\n",
    "\n",
    "y = df.iloc[0:100,4].values\n",
    "y = np.where(y=='Iris-setosa',1,-1)\n",
    "X = df.iloc[0:100,[0,2]].values\n",
    "\n",
    "plt.scatter(X[:50,0],X[:50,1],color='red',marker='o',label='setosa')\n",
    "plt.scatter(X[50:100,0],X[50:100,1],color='blue',marker='x',label='versicolor')\n",
    "\n",
    "plt.xlabel('petal length')\n",
    "plt.ylabel('sepal length')\n",
    "plt.legend(loc='upper left')\n",
    "plt.show()"
   ]
  },
  {
   "cell_type": "code",
   "execution_count": 11,
   "metadata": {},
   "outputs": [
    {
     "data": {
      "image/png": "[encoded data removed]",
      "text/plain": [
       "<matplotlib.figure.Figure at 0x7fc631159f98>"
      ]
     },
     "metadata": {},
     "output_type": "display_data"
    }
   ],
   "source": [
    "# Now we will train the algorithm\n",
    "\n",
    "ppn = Perceptron(eta=0.1,n_iter=10)\n",
    "ppn.fit(X,y)\n",
    "plt.plot(range(1,len(ppn.errors_)+1),ppn.errors_)\n",
    "plt.xlabel('Epochs')\n",
    "plt.ylabel('Number of misclassifications')\n",
    "plt.show()"
   ]
  },
  {
   "cell_type": "markdown",
   "metadata": {},
   "source": [
    "We can see from the above that the algorithm has already converged after 6th ecpoch and able to classify the training sample perfectly. Although the perceptron classified the two classes perfectly here but one of the biggest problem in perceptron is the convergence. If two classes are linearly seperable by the hyperplane then it never stops updating its weights unless we set a maximum number of epochs."
   ]
  },
  {
   "cell_type": "markdown",
   "metadata": {},
   "source": [
    "# Adaptive linear neuron and the convergence of learning (Adaline Algorithm)\n",
    "\n",
    "Another single layer neural network is Adaptive Neural Network. It is the improvement of previous algorithm. Adaline algorithm is different from the previous one in the form of activation function. Here the **linear activation is simply the identity function**. That is $\\Phi \\left ( w^Tx \\right ) = w^Tx$ . Here the linear activation function is used to learn the weights and similiar quantizer is used to predict the classes. **The another main difference is the continous activation value is used to update the weights rather than the binary values **. See the update aero is after the activation function\n",
    "\n",
    "<img src=\"fifth.jpg\" alt=\"Drawing\" style=\"width: 600px;\"/>\n",
    "\n",
    "\n",
    "## Minimizing the cost functions with gradient descent\n",
    "\n",
    "** Objective function ** is the function which is to be optimzed during the learning process. This objective function is often **cost function** that we want to minimized during the process. In Adaline cost function $J$ is given as the Sum of the squarred error between the calculated outcome (output of linear activation function) and true class label\n",
    "\n",
    "$\\jmath \\left ( w \\right ) = \\frac{1}{2} \\sum_{i}\\left ( y^i - \\Phi \\left ( z^i \\right ) \\right )^2$ \n",
    "\n",
    "* $\\frac{1}{2}$ is added for convenience as it make easier to derive gradient. \n",
    "\n",
    "* Advantage of linear activation function as compared to unit step is that function becomes differentiable\n",
    "\n",
    "* Our cost function is convex so we can use gradient descent to find the weights that minimizes the cost function.\n",
    "\n",
    "### Gradient Descent\n",
    "\n",
    "Principal of gradient descent can be understood as the climbing down a hill until local or global cost minimum is reached. In each iteration we step away from the gradient where the step size is determined by the value of the learning rate. If learning rate is too large we may overshoot the global minimum.\n",
    "\n",
    "<img src=\"https://raw.githubusercontent.com/rasbt/python-machine-learning-book/master/code/ch02/images/02_10.png\" alt=\"Drawing\" style=\"width: 400px;\"/>\n",
    "\n",
    "Using gradient descent we can update our weights by taking a step away from the gradient $\\bigtriangledown J\\left ( w \\right )$ of our cost function $ J(w) $.\n",
    "\n",
    "$w = w + \\Delta w$ \n",
    "\n",
    "Here the weight change $\\Delta w$ is equal to negative of gradient multiplied by learning rate\n",
    "\n",
    "$\\Delta w = - \\eta \\bigtriangledown J(w)$ ( negative because we are coming down)\n",
    "\n",
    "to get the gradient of cost function we have to find the partial of cost function with respect to the jth weight\n",
    "\n",
    "$\\frac{\\partial J}{w^j} = \\frac{\\partial }{w^i}\\frac{1}{2}\\sum_{i}(y^i - \\Phi (z^i))^2 = -\\sum_{i}(y^i-\\Phi (z^i))xj^i$ \n",
    "\n",
    "This looks identical to the perceptron rule, ** Here the weight update is calculated based on all sample in the training set instead of updating the weights after every sample. Therefore, this approach is also reffered as batch gradient descent. That is why we have summation in the equation of the cost function **"
   ]
  },
  {
   "cell_type": "markdown",
   "metadata": {},
   "source": [
    "# Implementation of Adaptive Linear Neuron\n",
    "\n",
    "The implementation of this algorithm is very similiar to the previous one, only fit method is changed to update the weights by minimizing cost function using gradient descent."
   ]
  },
  {
   "cell_type": "code",
   "execution_count": 16,
   "metadata": {
    "collapsed": true
   },
   "outputs": [],
   "source": [
    "class AdalineGD(object):\n",
    "    \"\"\"Adaptive Linear Neuron classifier.\n",
    "\n",
    "    Parameters\n",
    "    ------------\n",
    "    eta : float\n",
    "        Learning rate (between 0.0 and 1.0)\n",
    "    n_iter : int\n",
    "        Passes over the training dataset.\n",
    "\n",
    "    Attributes\n",
    "    -----------\n",
    "    w_ : 1d-array\n",
    "        Weights after fitting.\n",
    "    errors_ : list\n",
    "        Number of misclassifications (updates) in each epoch.\n",
    "\n",
    "    \"\"\"\n",
    "    def __init__(self, eta=0.01, n_iter=50):\n",
    "        self.eta = eta\n",
    "        self.n_iter = n_iter\n",
    "\n",
    "    def fit(self, X, y):\n",
    "        \"\"\"Fit training data.\n",
    "\n",
    "        Parameters\n",
    "        ----------\n",
    "        X : {array-like}, shape = [n_samples, n_features]\n",
    "            Training vectors, where n_samples is the number of samples and\n",
    "            n_features is the number of features.\n",
    "        y : array-like, shape = [n_samples]\n",
    "            Target values.\n",
    "\n",
    "        Returns\n",
    "        -------\n",
    "        self : object\n",
    "\n",
    "        \"\"\"\n",
    "        self.w_ = np.zeros(1 + X.shape[1])\n",
    "        self.cost_ = []\n",
    "\n",
    "        for i in range(self.n_iter):\n",
    "            output = self.net_input(X)\n",
    "            errors = (y - output) # This the part of gradient equation sumation(y^i - activationfunc^i)xj^i\n",
    "            self.w_[1:] += self.eta * X.T.dot(errors) # delta w = - learning_rate * gradient equation, T here is transpose\n",
    "            self.w_[0] += self.eta * errors.sum() # because x0 is always 1 for a sample\n",
    "            cost = (errors**2).sum() / 2.0\n",
    "            self.cost_.append(cost)\n",
    "        return self\n",
    "\n",
    "    def net_input(self, X):\n",
    "        \"\"\"Calculate net input\"\"\"\n",
    "        return np.dot(X, self.w_[1:]) + self.w_[0]\n",
    "    \n",
    "    def activation(self,X):\n",
    "        \"\"\" Compute Linear Activation\"\"\"\n",
    "        return self.net_input(X)\n",
    "    \n",
    "    def predict(self, X):\n",
    "        \"\"\"Return class label after unit step\"\"\"\n",
    "        return np.where(self.activation(X) >= 0.0, 1, -1)"
   ]
  },
  {
   "cell_type": "markdown",
   "metadata": {},
   "source": [
    "Instead of updating weight after every sample the weights are updated after every epoch, we calculate the gradient based on whole sample set via self.eta * errors.sum() for the zeroth weight and self.eta * X.T.dot(errors) for weights from 1 to m. We have collected the cost in list to see whether it is converged or not.\n",
    "\n",
    "Now we will se the convergence of the algorithm using two different learning rate one with $ \\eta = 0.01 $ and one with $ \\eta = 0.0001 $"
   ]
  },
  {
   "cell_type": "code",
   "execution_count": 27,
   "metadata": {},
   "outputs": [
    {
     "data": {
      "image/png": "[encoded data removed]",
      "text/plain": [
       "<matplotlib.figure.Figure at 0x7fc630d41748>"
      ]
     },
     "metadata": {},
     "output_type": "display_data"
    }
   ],
   "source": [
    "fig, ax = plt.subplots(nrows=1,ncols=2,figsize=(8,4))\n",
    "ada1 = AdalineGD(n_iter=20,eta=0.01).fit(X,y)\n",
    "ax[0].plot(range(1,len(ada1.cost_)+1),ada1.cost_,marker='o')\n",
    "ax[0].set_xlabel('Epochs')\n",
    "ax[0].set_ylabel('Log (Sum Squarred Error)')\n",
    "ax[0].set_title('Adaline - Learning Rate 0.01')\n",
    "\n",
    "ada2 = AdalineGD(n_iter=20,eta=0.0001).fit(X,y)\n",
    "ax[1].plot(range(1,len(ada2.cost_)+1),ada2.cost_,marker='o')\n",
    "ax[1].set_xlabel('Epochs')\n",
    "ax[1].set_title('Adaline - Learning Rate 0.0001')\n",
    "plt.show()"
   ]
  },
  {
   "cell_type": "markdown",
   "metadata": {},
   "source": [
    "#### Note : In above two graphs we can observe that if we have smaller learning rate cost function doesn't minimize and in right graph we can se with sufficiently small $ \\eta $ we are going towards the convergence.\n",
    "\n",
    "If the learning rate is too large we may overshoot the global minimum and our cost function stops optimizing.\n",
    "\n",
    "<img src=\"https://raw.githubusercontent.com/rasbt/python-machine-learning-book/master/code/ch02/images/02_12.png\" alt=\"Drawing\" style=\"width: 600px;\"/>"
   ]
  },
  {
   "cell_type": "code",
   "execution_count": 30,
   "metadata": {},
   "outputs": [
    {
     "data": {
      "image/png": "[encoded data removed]",
      "text/plain": [
       "<matplotlib.figure.Figure at 0x7fc631011710>"
      ]
     },
     "metadata": {},
     "output_type": "display_data"
    }
   ],
   "source": [
    "# Convergence reached around 300 iteration in Adaline Algorithm\n",
    "\n",
    "ada = AdalineGD(n_iter=300,eta=0.0001).fit(X,y)\n",
    "plt.plot(range(1,len(ada.cost_)+1),ada.cost_,marker='o')\n",
    "plt.xlabel('Epochs')\n",
    "plt.ylabel('Sum sqaurred error')\n",
    "plt.title('Adaline - Learning Rate 0.0001')\n",
    "plt.show()"
   ]
  },
  {
   "cell_type": "markdown",
   "metadata": {},
   "source": [
    "#### Feature Scaling \n",
    "\n",
    "Some of the machine learning algorithm requires feature scaling for optimal performance. ** Gradient Descent is one of the algorithm which benefits from feature scaling **. \n",
    "\n",
    "* Standardization is one the feature scaling method\n",
    "     * The mean of each feature is centered at 0 and feature column has standard deviation(variance) of 1\n",
    "\n",
    "For example to standardize jth feature we subtract the feature value from its mean $\\mu _{j}$  and divide it by its standard deviation $\\sigma_{j}$ \n",
    "\n",
    "$x^-_{j} = \\frac{x_{j} - \\mu _{j}}{\\sigma _{j}}$  Here $ x^-_{j} $ represents scaled featured"
   ]
  },
  {
   "cell_type": "code",
   "execution_count": 40,
   "metadata": {},
   "outputs": [
    {
     "name": "stdout",
     "output_type": "stream",
     "text": [
      "[[-0.5810659  -1.01435952]\n",
      " [-0.89430898 -1.01435952]\n",
      " [-1.20755205 -1.08374115]\n",
      " [-1.36417359 -0.94497788]\n",
      " [-0.73768744 -1.01435952]\n",
      " [-0.11120129 -0.80621461]\n",
      " [-1.36417359 -1.01435952]\n",
      " [-0.73768744 -0.94497788]\n",
      " [-1.67741667 -1.01435952]\n",
      " [-0.89430898 -0.94497788]]\n"
     ]
    },
    {
     "data": {
      "image/png": "[encoded data removed]",
      "text/plain": [
       "<matplotlib.figure.Figure at 0x7fc630b575f8>"
      ]
     },
     "metadata": {},
     "output_type": "display_data"
    }
   ],
   "source": [
    "# standardzing features\n",
    "X_std = np.copy(X)\n",
    "X_std[:,0] = (X[:,0] - X[:,0].mean()) / X[:,0].std()\n",
    "X_std[:,1] = (X[:,1] - X[:,1].mean()) / X[:,1].std()\n",
    "\n",
    "print(X_std[:10,:])\n",
    "\n",
    "# Running Adaline algorithm on standardized features \n",
    "ada = AdalineGD(n_iter=20,eta=0.01).fit(X_std,y)\n",
    "plt.plot(range(1,len(ada.cost_)+1),ada.cost_,marker='o')\n",
    "plt.xlabel('Epochs')\n",
    "plt.ylabel('Sum sqaurred error')\n",
    "plt.title('Adaline - Learning Rate 0.01 (Standardized)')\n",
    "plt.show()"
   ]
  },
  {
   "cell_type": "markdown",
   "metadata": {},
   "source": [
    "### Note : Using feature scaling above even with high learning rate $ \\eta = 0.01 $ adaline converges in just 15 Epochs"
   ]
  },
  {
   "cell_type": "markdown",
   "metadata": {},
   "source": [
    "## Large scale machine learning and stochastic gradient descent"
   ]
  }
 ],
 "metadata": {
  "kernelspec": {
   "display_name": "Python 3",
   "language": "python",
   "name": "python3"
  },
  "language_info": {
   "codemirror_mode": {
    "name": "ipython",
    "version": 3
   },
   "file_extension": ".py",
   "mimetype": "text/x-python",
   "name": "python",
   "nbconvert_exporter": "python",
   "pygments_lexer": "ipython3",
   "version": "3.6.1"
  }
 },
 "nbformat": 4,
 "nbformat_minor": 2
}
