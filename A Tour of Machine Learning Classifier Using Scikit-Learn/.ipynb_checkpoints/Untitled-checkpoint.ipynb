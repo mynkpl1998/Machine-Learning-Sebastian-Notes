{
 "cells": [
  {
   "cell_type": "markdown",
   "metadata": {},
   "source": [
    "# Choosing a classification algorithm\n",
    "\n",
    "No single classification algorithm works best across all possible scenarios. It is always recomended to try at least handful of algorithm before selecting best one. It depends upon the number of features, noise in the dataset and whether classes are linearly seperable or not.\n",
    "\n",
    "#### Important\n",
    "Steps involved in training a machine learning algorithm\n",
    "1. Selection of features\n",
    "2. Choosing a performance metric\n",
    "3. Choosing a classifier and optimization algorithm\n",
    "4. Evaluating the performance of the model\n",
    "5. Tuning the algorithm\n",
    "\n"
   ]
  },
  {
   "cell_type": "markdown",
   "metadata": {},
   "source": [
    "# Training a perceptron via scikit-learn\n",
    "\n",
    "We will use Iris dataset for testing and experimenting with algorithms. We will use only two features from the Iris Flower dataset for visualization purposes.\n",
    "We will use the petal length and petal width of the 150 flower samples to the feature matrix x and y as the corresponding flower species\n"
   ]
  },
  {
   "cell_type": "code",
   "execution_count": 1,
   "metadata": {
    "collapsed": true
   },
   "outputs": [],
   "source": [
    "from sklearn import datasets\n",
    "import numpy as np\n",
    "iris = datasets.load_iris() # loading the iris dataset in the memory\n",
    "X = iris.data[:,[2,3]] # Column 2 and 3 are petal length and petal width\\\n",
    "y = iris.target # lables are already encoded in 0,1,2, 0 - Setosa, 1 - Versicolor, 2 - Virginica"
   ]
  },
  {
   "cell_type": "markdown",
   "metadata": {},
   "source": [
    "Always convert the class label to integers for the optimal performance of the algorithm as we done above example. if we do np.unique on class labels(y) it will return (0,1,2)\n",
    "To evaluate how well algorithm is performing on unseen data we will split our data set in training and testing set. we can use sklearn module test_train_split to do that"
   ]
  },
  {
   "cell_type": "code",
   "execution_count": 2,
   "metadata": {},
   "outputs": [
    {
     "name": "stderr",
     "output_type": "stream",
     "text": [
      "/home/mayank/anaconda3/lib/python3.6/site-packages/sklearn/cross_validation.py:44: DeprecationWarning: This module was deprecated in version 0.18 in favor of the model_selection module into which all the refactored classes and functions are moved. Also note that the interface of the new CV iterators are different from that of this module. This module will be removed in 0.20.\n",
      "  \"This module will be removed in 0.20.\", DeprecationWarning)\n"
     ]
    }
   ],
   "source": [
    "from sklearn.cross_validation import train_test_split\n",
    "X_train, X_test, y_train, y_test = train_test_split(X,y,test_size=0.3,random_state=0)\n",
    "# This will split the 30 percent of the data for testing and 70 percent for training the algorithm\n",
    "# random_state is used to produce the same dataset as of book"
   ]
  },
  {
   "cell_type": "code",
   "execution_count": null,
   "metadata": {
    "collapsed": true
   },
   "outputs": [],
   "source": []
  },
  {
   "cell_type": "markdown",
   "metadata": {},
   "source": [
    "Now we will do the feature scaling as we did for gradient descent. Here we will use the StandarScaler in-built function of sklearn to standardize the features"
   ]
  },
  {
   "cell_type": "code",
   "execution_count": 3,
   "metadata": {
    "collapsed": true
   },
   "outputs": [],
   "source": [
    "from sklearn.preprocessing import StandardScaler\n",
    "sc = StandardScaler()\n",
    "sc.fit(X_train) # fit method calculates the mean and variance for each feature\n",
    "X_train_std = sc.transform(X_train) # this transforms the features or standardized the features\n",
    "X_test_std = sc.transform(X_test)\n"
   ]
  },
  {
   "cell_type": "markdown",
   "metadata": {},
   "source": [
    "Now we can train our perceptron model. Most of the libraries on scikit-learn supports multiclass classification and default via ** One-vs-Rest or One-vs-all**  \n",
    "\n",
    "### One-vs-all\n",
    "This is technique which is used to extend the binary classifier to multiclass classifier. In this technique different classfier object is used to train on each class label. While training for particular class for example positive class we consider all other classes as zero. The one with high probablity is then choosen\n"
   ]
  },
  {
   "cell_type": "code",
   "execution_count": 4,
   "metadata": {},
   "outputs": [
    {
     "data": {
      "text/plain": [
       "Perceptron(alpha=0.0001, class_weight=None, eta0=0.1, fit_intercept=True,\n",
       "      n_iter=40, n_jobs=1, penalty=None, random_state=0, shuffle=True,\n",
       "      verbose=0, warm_start=False)"
      ]
     },
     "execution_count": 4,
     "metadata": {},
     "output_type": "execute_result"
    }
   ],
   "source": [
    "# Training Perceptron\n",
    "from sklearn.linear_model import Perceptron\n",
    "ppn = Perceptron(n_iter=40,eta0=0.1,random_state=0) # 40 Epochs or passes over training set and learning rate of 0.1\n",
    "ppn.fit(X_train_std,y_train)# random state is used just to reprocduce the same training set after shuffling over each epoch"
   ]
  },
  {
   "cell_type": "markdown",
   "metadata": {},
   "source": [
    "#### Finding the correct learning rate $\\eta$ requires experimentation. If the learning rate is too large it will overshoot the global minimum. If the learning rate is too small it will take more epochs to converge.\n"
   ]
  },
  {
   "cell_type": "code",
   "execution_count": null,
   "metadata": {
    "collapsed": true
   },
   "outputs": [],
   "source": []
  },
  {
   "cell_type": "code",
   "execution_count": 5,
   "metadata": {},
   "outputs": [
    {
     "name": "stdout",
     "output_type": "stream",
     "text": [
      "Missclassified samples: 4\n"
     ]
    }
   ],
   "source": [
    "# Predicting from perceptron\n",
    "y_pred = ppn.predict(X_test_std)\n",
    "print('Missclassified samples: %d'%(y_pred != y_test).sum())"
   ]
  },
  {
   "cell_type": "markdown",
   "metadata": {},
   "source": [
    "We have missclassified 4 samples out of 45 test samples. So missclassification error is $\\frac{4}{45} \\approx 0.089 = 8.9 percent$ \n",
    "\n",
    "Accuracy = 1 - missclassfication error = 1 - 0.089 = 91.1 percent"
   ]
  },
  {
   "cell_type": "code",
   "execution_count": 6,
   "metadata": {},
   "outputs": [
    {
     "name": "stdout",
     "output_type": "stream",
     "text": [
      "Accuracy : 0.911111\n"
     ]
    }
   ],
   "source": [
    "# Accuracy using inbuilt scikit-learn function\n",
    "from sklearn.metrics import accuracy_score\n",
    "print('Accuracy : %f'%accuracy_score(y_test,y_pred))"
   ]
  },
  {
   "cell_type": "code",
   "execution_count": 7,
   "metadata": {},
   "outputs": [
    {
     "data": {
      "image/png": "[encoded data removed]",
      "text/plain": [
       "<matplotlib.figure.Figure at 0x7fb19b0e7978>"
      ]
     },
     "metadata": {},
     "output_type": "display_data"
    }
   ],
   "source": [
    "# Plotting descision bounday\n",
    "from matplotlib.colors import ListedColormap\n",
    "import matplotlib.pyplot as plt\n",
    "import warnings\n",
    "\n",
    "\n",
    "def versiontuple(v):\n",
    "    return tuple(map(int, (v.split(\".\"))))\n",
    "\n",
    "\n",
    "def plot_decision_regions(X, y, classifier, test_idx=None, resolution=0.02):\n",
    "\n",
    "    # setup marker generator and color map\n",
    "    markers = ('s', 'x', 'o', '^', 'v')\n",
    "    colors = ('red', 'blue', 'lightgreen', 'gray', 'cyan')\n",
    "    cmap = ListedColormap(colors[:len(np.unique(y))])\n",
    "\n",
    "    # plot the decision surface\n",
    "    x1_min, x1_max = X[:, 0].min() - 1, X[:, 0].max() + 1\n",
    "    x2_min, x2_max = X[:, 1].min() - 1, X[:, 1].max() + 1\n",
    "    xx1, xx2 = np.meshgrid(np.arange(x1_min, x1_max, resolution),\n",
    "                           np.arange(x2_min, x2_max, resolution))\n",
    "    Z = classifier.predict(np.array([xx1.ravel(), xx2.ravel()]).T)\n",
    "    Z = Z.reshape(xx1.shape)\n",
    "    plt.contourf(xx1, xx2, Z, alpha=0.4, cmap=cmap)\n",
    "    plt.xlim(xx1.min(), xx1.max())\n",
    "    plt.ylim(xx2.min(), xx2.max())\n",
    "\n",
    "    for idx, cl in enumerate(np.unique(y)):\n",
    "        plt.scatter(x=X[y == cl, 0], \n",
    "                    y=X[y == cl, 1],\n",
    "                    alpha=0.6, \n",
    "                    c=cmap(idx),\n",
    "                    edgecolor='black',\n",
    "                    marker=markers[idx], \n",
    "                    label=cl)\n",
    "\n",
    "    # highlight test samples\n",
    "    if test_idx:\n",
    "        # plot all samples\n",
    "        if not versiontuple(np.__version__) >= versiontuple('1.9.0'):\n",
    "            X_test, y_test = X[list(test_idx), :], y[list(test_idx)]\n",
    "            warnings.warn('Please update to NumPy 1.9.0 or newer')\n",
    "        else:\n",
    "            X_test, y_test = X[test_idx, :], y[test_idx]\n",
    "\n",
    "        plt.scatter(X_test[:, 0],\n",
    "                    X_test[:, 1],\n",
    "                    c='',\n",
    "                    alpha=1.0,\n",
    "                    edgecolor='black',\n",
    "                    linewidths=1,\n",
    "                    marker='o',\n",
    "                    s=55, label='test set')\n",
    "\n",
    "X_combined_std = np.vstack((X_train_std,X_test_std))\n",
    "y_combined_std = np.hstack((y_train,y_test))\n",
    "plot_decision_regions(X=X_combined_std,y=y_combined_std,classifier=ppn)\n",
    "plt.xlabel('petal length [standardized]')\n",
    "plt.ylabel('petal width [standardized]')\n",
    "plt.legend(loc='upper left')\n",
    "plt.show()"
   ]
  },
  {
   "cell_type": "markdown",
   "metadata": {},
   "source": [
    "We can see the three flowers are not perfectly seperated by a linear decision boundary (see the lines are staright ) Since we know that perceptron algorithm doesn't converge if the data can't be seperated by the linear boundary. Therefore, perceptron is not generally used."
   ]
  },
  {
   "cell_type": "markdown",
   "metadata": {},
   "source": [
    "# Logistic Regression\n",
    "\n",
    "The biggest disadvantage of the perceptron is if data is not linearly seperable than algorithm will never converge even with low the learning rate.\n",
    "\n",
    "### Intiuition\n",
    "\n",
    "* Logistic regression is another linear model for binary classification which can be extended to multi class using 0vR technique.\n",
    "\n",
    "#### Odds ratio\n",
    "\n",
    "It is the odd in favor of particular event. The odds ration is written as $\\frac{p}{(1-p)}$  where $ p $ is the probability of positive event. Here positive doesn't mean good it means probability of event we want to predict. For example the patient has certain disease can be positive event for us $ y =1 $. \n",
    "\n",
    "**Logit function** is log of odds ratio : $logit(p) = log\\frac{p}{(1-p)}$ \n",
    "\n",
    "The logit function takes values from range of 0 to 1 and transforms it to entire real line number range, which can be used to represent linear relationship between feature values and log-odds\n",
    "\n",
    "$logit(p(y=1|x)) = w_{0}x_{0} + w_{1}x_{1} + w_{m}x_{m} = w^{T}x$, Here $ p(y=1|x) $ is conditional probability of particular sample belongs to class 1 given its features x\n",
    "\n",
    "We are actually interested in predicting the probabilty of particular sample belongs to particular class given its features, which is inverse of logit function (in logit function you enter probablity it gives you real number but we want probility if we input net input which is a real number). It is called *sigmoid* function.\n",
    "\n",
    "### $\\Phi (z) = \\frac{1}{1+e^{-z}}$ \n",
    "\n",
    "\n",
    "### Plot of sigmoid function\n",
    "\n"
   ]
  },
  {
   "cell_type": "code",
   "execution_count": 8,
   "metadata": {},
   "outputs": [
    {
     "data": {
      "image/png": "[encoded data removed]",
      "text/plain": [
       "<matplotlib.figure.Figure at 0x7fb1c8d7e5c0>"
      ]
     },
     "metadata": {},
     "output_type": "display_data"
    }
   ],
   "source": [
    "%matplotlib inline\n",
    "import matplotlib\n",
    "import numpy as np\n",
    "import matplotlib.pyplot as plt\n",
    "\n",
    "def sigmoid(z):\n",
    "    return 1.0 / (1.0 + np.exp(-z))\n",
    "\n",
    "z = np.arange(-7,7,0.1)\n",
    "phi_z = sigmoid(z)\n",
    "plt.plot(z,phi_z)\n",
    "plt.axvline(0.0,color='k')\n",
    "plt.axhspan(0.0,1.0,facecolor='1.0',alpha=0.1,ls='dotted')\n",
    "plt.axhline(y=0.5,ls='dotted',color='k')\n",
    "plt.yticks([0.0,0.5,1.0])\n",
    "plt.ylim(-0.1,1.1)\n",
    "plt.xlabel('z')\n",
    "plt.ylabel('$\\phi (z)$')\n",
    "plt.show()"
   ]
  },
  {
   "cell_type": "markdown",
   "metadata": {},
   "source": [
    "we can see we got a **S-Shaped** curve. $ \\phi(z) $ approaches 1 if $z \\rightarrow \\infty$ , because $ e^{-z}$ becomes very small. Similarly, $ \\phi(z) $ approaches 0 if $z \\rightarrow 0$. Thus sigmoid function transforms a real number (input) to range [0,1] with an intercept at $ \\phi(z) = 0.5$.\n",
    "\n",
    "We can relate this to the previous adaline model, where activation function was identity, $\\phi(z) = z$. Here it is replaced by sigmoid function. \n",
    "\n",
    "<img src=\"https://raw.githubusercontent.com/rasbt/python-machine-learning-book/master/code/ch03/images/03_03.png\" alt=\"Annotation Examples\" style=\"width:500px\">\n",
    "\n",
    "The output of the function is then interpreted as the probability of particular sample belongs to class 1 $ \\phi(z) = P(y=1|x,w) $ given its features x and paramterized by weight vector. If the value is $ \\phi(z) = 0.8 $, this means there are 80 percent chance that it belongs to the class 1 and 20 percent that it belongs to class 0. Then the probablity can be converted to binary outcome by quantizer\n",
    "\n",
    "$y^{-} = \\begin{cases} 1, & \\text{ if } x= \\phi(z) \\geq 0.5\\\\ 0 & \\text{ if } otherwise \\end{cases}$ \n",
    "\n",
    "#### Note : Logistic regression not only predicts the class labels but it also predicts the probability of particular sample belongs to particular class. It is used in weather forecasting and predicting chance whether patient has a particular disease given symptoms. Thats why logistic regression enjoys wide popularity in the field of medicine\n",
    "\n",
    "### Learning weights of logistic cost function\n",
    "\n",
    "In previous topic we define the sum-squarred error cost function :\n",
    "\n",
    "$J(w) = \\sum_{i}\\frac{1}{2}(\\phi(z^{i}) - y^{i})^2$ \n",
    "\n",
    "We minimized this function to learn the optimal weights for Adaline Classification. To derive the cost function for logistic regression first define a likelihood function L we want to maximize when we build our model, **assuming that each sample in dataset are independent of each other**. The formula is as follows:\n",
    "\n",
    "$L(w) = P(y|x;w) = \\prod_{i}^{n}P(y^i|x^i;w) = (\\phi(z^{i})^{y^{i}} - (1 - \\phi(z^{i})))^{1-y^{i}}$, one of the term become 1 for other class. for example for y = 1 another term becomes unity\n",
    "\n",
    "** first term is for y = 1 and second term is for y =0 **\n",
    "\n",
    "In practice it is easier to minimize log function so taking log:\n",
    "\n",
    "$l(w) = log L(w) = \\sum_{i}^{n} log(\\phi(z^{i})) + (1-y^{i})log(1-\\phi(z^{i}))$ \n",
    "\n",
    "Lets write the log likelihood function as the cost function which can be minimized using gradient descent. \n",
    "\n",
    "$l(w) = log L(w) = \\sum_{i}^{n} -log(\\phi(z^{i})) - (1-y^{i})log(1-\\phi(z^{i}))$ we are not writing $ y^{i} $ instead summation is used after taking log\n",
    "\n",
    "for single sample instance, it becomes\n",
    "\n",
    "$J(\\phi(z),y;w) = -ylog(\\phi(z)) - (1-y)log(1-\\phi(z))$ , negative is added to minimize the log function easily\n",
    "\n",
    "So the cost function for each class is \n",
    "\n",
    "$J(\\phi(z),y;w) = \\begin{cases} -log(\\phi(z)) & \\text{ if } y=1 \\\\ -log(1-\\phi(z))& \\text{ if } y=0 \\end{cases}$ \n",
    "\n",
    "\n",
    "<img src=\"https://raw.githubusercontent.com/rasbt/python-machine-learning-book/master/code/ch03/images/03_04.png\" alt=\"Annotation Examples\" style=\"width:400px\">\n",
    "\n",
    "We can clearly see the cost function reaches to 0 if we correctly predict the class. However, if the prediction is wrong the cost goes towards infinity. **The moral is we penalize wrong predictions with an more larger cost.**\n"
   ]
  },
  {
   "cell_type": "markdown",
   "metadata": {},
   "source": [
    "### Training a logistic cost function model with scikit - learn"
   ]
  },
  {
   "cell_type": "code",
   "execution_count": 9,
   "metadata": {},
   "outputs": [
    {
     "data": {
      "image/png": "[encoded data removed]",
      "text/plain": [
       "<matplotlib.figure.Figure at 0x7fb19860af60>"
      ]
     },
     "metadata": {},
     "output_type": "display_data"
    }
   ],
   "source": [
    "from sklearn.linear_model import LogisticRegression\n",
    "lr = LogisticRegression(C=1000.0,random_state=0)\n",
    "lr.fit(X_train_std,y_train)\n",
    "plot_decision_regions(X_combined_std,y_combined_std,classifier=lr)\n",
    "plt.xlabel('petal length [standardized]')\n",
    "plt.ylabel('petal width [standardized]')\n",
    "plt.legend(loc='upper left')\n",
    "plt.show()"
   ]
  },
  {
   "cell_type": "markdown",
   "metadata": {},
   "source": [
    "Furthermore, we can predict the class probabilties for each class using predict_prob method.\n"
   ]
  },
  {
   "cell_type": "code",
   "execution_count": 10,
   "metadata": {},
   "outputs": [
    {
     "data": {
      "text/plain": [
       "array([[  2.05743774e-11,   6.31620264e-02,   9.36837974e-01]])"
      ]
     },
     "execution_count": 10,
     "metadata": {},
     "output_type": "execute_result"
    }
   ],
   "source": [
    "lr.predict_proba(X_test_std[0,:].reshape(1,-1)) # without reshape it generates valueError or Depriciation Warning"
   ]
  },
  {
   "cell_type": "markdown",
   "metadata": {},
   "source": [
    "Preceeding array tells us that the model predicts 93.7 percent chance of sample belongs to Iris-Virginica and other classes probabloties as mentioned\n",
    "\n",
    "### Calculation of gradient of cost function of logistic regression\n",
    "\n",
    "The partial derivative of log-likelihood cost function with respect to the jth weight (feature is)\n",
    "\n",
    "### $\\frac{\\partial l(w)}{\\partial w_{j}} = (y\\frac{1}{\\phi(z)} - (1-y)\\frac{1}{1-\\phi(z)})\\frac{\\partial \\phi(z)}{w_{j}}$ \n",
    "\n",
    "Partial derivative of sigmoid function\n",
    "\n",
    "### $\\frac{\\partial \\phi(z)}{w_{j}} = \\frac{\\partial }{\\partial z}\\frac{1}{1+e^{-z}} = \\frac{1}{(1+e^{-z})^2}e^{-z} = \\frac{1}{1+e^{-z}}(1-\\frac{1}{1+e^{-z}}) = \\phi(z)(1 - \\phi(z))$ \n",
    "\n",
    "Using the partial derivative of sigmoid in second last equation\n",
    "\n",
    "### $\\frac{\\partial l(w)}{\\partial w_{j}} = (y\\frac{1}{\\phi(z)} - (1-y)\\frac{1}{1-\\phi(z)})\\phi(z)(1 - \\phi(z))\\frac{\\partial }{\\partial w_{j}}z$ \n",
    "\n",
    "### $= (y(1-\\phi(z)) - (1-y)\\phi(z))x_{j} = (y - \\phi(z))x_{j}$ \n",
    "\n",
    "our goal was to maximize the log-likelihood function so the weight update for each weights is as follows:\n",
    "\n",
    "### $w_{j} = w_{j} + \\eta \\sum_{i=1}^{n}(y^{i} - \\phi(z)^i)x^i$ \n",
    "\n",
    "so general weight update rule becomes :\n",
    "\n",
    "### $w = w + \\Delta w$ \n",
    "\n",
    "We define $ \\Delta w$ as follows :\n",
    "\n",
    "$ \\Delta = \\eta \\bigtriangledown  l(w)$"
   ]
  },
  {
   "cell_type": "markdown",
   "metadata": {},
   "source": [
    "# Tackling overfiting via regularization\n",
    "\n",
    "Overfitting is common problem in machine learning where a model performs well on training data but doesn't perform well on unseen data(test data). If a model suffers from overfitting we can say that it has **high variance**, which can be caused by the model is too complex given the underlying data. If a model suffers from underfitting we can say that it has **high bias** which means it is not complex enough to capture all the patterns in the data and therefore performs poor on unseen data.\n",
    "\n",
    "The problem of overfitting is best illustrated by the non-linear decision boundary as shown below:\n",
    "\n",
    "<img src=\"https://raw.githubusercontent.com/rasbt/python-machine-learning-book/master/code/ch03/images/03_06.png\" alt=\"Annotation Examples\" style=\"width:500px\">\n",
    "\n",
    "1. Error Due to Bias : The error due to bias is taken as the difference between the expected (or average) prediction of our model and the correct value which we are trying to predict. So expection there is strange because we have only one model. Assume you train your algorithm on data number of times then due to randomness in the data you will get the range of prediction for a sample so expection is used for that. **Bias represent in general how far your are your model predictions from the actual correct value. High means you are too far from the correct prediction**\n",
    "\n",
    "2. Error due to variance : The error due to variance is taken variablilty of the model prediction from a data point. If you train your model multiple of time. Then Variance represent how much your prediction for a given point vary for different realizations of the model\n",
    "\n",
    "One way to find a good bias-variance tradeoff is to tune the complexity of the model via regularization. Regularization is a very useful method to filter out noise from the data and eventually prevent overfitting. The concept behind the over-fitting is to add additional information (bias) to penalize extreme parameter weights. The most common form of regularization is **L2-regularization** which can be written as :\n",
    "\n",
    "### L2- Regularization : $\\frac{\\lambda }{2}\\left \\| w \\right \\|^{2} = \\frac{\\lambda}{2}\\sum_{j=1}^{m}w_{j}^{2}$ , where $ \\lambda $ is called regularization parameter. \n",
    "\n",
    "** Regularization is another important reason why feature scaling is useful. For regularization to work the features should be on same comparable scale **\n",
    "\n",
    "To apply regularization add the regularization term to the cost function to shirnk the weights.\n",
    "\n",
    "$J(w) = \\sum_{i=1}^{n}(-log(\\phi(z^{i})) + (1-y^{i})(-log(1-\\phi(z^{i})))) + \\frac{\\lambda}{2}\\left \\| w \\right \\|^{2}$ \n",
    "\n",
    "**Via $\\lambda$ we can control how well we fit the training data while keeping the weights small**. By the increasing the value to $\\lambda$ we increase the regularization strength and decrease the weights. ** C is directly related to the $\\lambda$ **\n",
    "\n",
    "### C is inverse of regularization strength : $ C = \\frac{1}{\\lambda} $\n",
    "\n",
    "Then we can write the regularized cost functions as :\n",
    "\n",
    "$J(w) = C(\\sum_{i=1}^{n}(-log(\\phi(z^{i})) + (1-y^{i})(-log(1-\\phi(z^{i}))))) + \\frac{1}{2}\\left \\| w \\right \\|^{2}$\n",
    "\n",
    "Decreasing the value of the inverse regularization parameter C means that we are increasing the regularization strength, which we can visualize by plotting the L2 regularization path for the two weight cofficients.\n",
    "\n"
   ]
  },
  {
   "cell_type": "code",
   "execution_count": 44,
   "metadata": {},
   "outputs": [
    {
     "data": {
      "image/png": "[encoded data removed]",
      "text/plain": [
       "<matplotlib.figure.Figure at 0x7fb193e53e80>"
      ]
     },
     "metadata": {},
     "output_type": "display_data"
    }
   ],
   "source": [
    "weights, param = [], []\n",
    "for c in np.arange(0.0001,5,0.1):\n",
    "    lr = LogisticRegression(C=10**c, random_state=0)\n",
    "    lr.fit(X_train_std,y_train)\n",
    "    weights.append(lr.coef_[1]) # get weights cofficients for the class 2\n",
    "    param.append(10**c)\n",
    "weights = np.array(weights)\n",
    "plt.plot(param,weights[:,0],label='petal length')\n",
    "plt.plot(param,weights[:,1],label='petal width',linestyle='--')\n",
    "plt.ylabel('weight cofficient')\n",
    "plt.xlabel('C')\n",
    "plt.legend(loc='upper left')\n",
    "plt.xscale('log')\n",
    "plt.show()"
   ]
  },
  {
   "cell_type": "markdown",
   "metadata": {},
   "source": [
    "We colleced the weight cofficients of class 2 vs all classifier. We used OvR technique for classification. We can see in the plot that if we decrease the value of C that is increase the regularization strength the weight cofficients shrink. \n",
    "\n",
    "**Note : On increasing the value of C(decreasing the regularization strength) we increase the bias and lower the variance.**"
   ]
  },
  {
   "cell_type": "markdown",
   "metadata": {},
   "source": [
    "# Maximum Margin Classification using Support Vector Machines\n",
    "\n",
    "Another power widely used classification algorithm is support vector machines, which can be considered as the extension of the perceptron algorithm. In perceptron algorithm we minimized the missclassification errors(our cost function was predict_value - actual value we minimized this). In SVMs our objective is to maximize the margin. The margin is defined as the distance between **hyperplane(decision boundary)** and training sample closest to this hyperplane. This training samples are called as **support vector**. \n",
    "\n",
    "<img src=\"https://raw.githubusercontent.com/rasbt/python-machine-learning-book/master/code/ch03/images/03_07.png\", style=\"width:600px\">\n",
    "\n",
    "### Maximum margin intuition\n",
    "\n",
    "**Very Imp.** : **The rationale behind having decision boundary with large margin is that they are tend to have a low generalization errors whereas the models with small margins are more prone to overfitting.**\n",
    "\n",
    "To get the intuition of maximum margin have a look at *positive and *negative hyperplanes that are parllel to decision boundary. \n",
    "\n",
    "for positive hyperplane:\n",
    "\n",
    "$w_{0} + w^{T}x_{positive} = 1$ , here the $ w^{T}x_{positive}$ means the value after activation function, rememeber perceptron has identity as activation function and for zeroth weight x is always 1.\n",
    "\n",
    "for negative hyperplane:\n",
    "$w_{0} + w^{T}x_{negative} = -1$\n",
    "\n",
    "If we subtract above two equations we get\n",
    "\n",
    "$\\Rightarrow w^{T}(x_{positive} - x_{negative}) = 2$ \n",
    "\n",
    "We can normalize this by the length of the vector w, which is defined as :\n",
    "\n",
    "$\\left \\| w \\right \\| = \\sqrt{\\sum_{j=1}^{m}w^{2}_{j}}$ \n",
    "\n",
    "So, final equation becomes\n",
    "\n",
    "$\\frac{w_{T}(x_{pos}-x_{neg})}{\\left \\| w \\right \\|} = \\frac{2}{\\left \\| w \\right \\|}$ \n",
    "\n",
    "The left side of the preceding eqaution can be interpreted as the distance between the positive and negative hyperplanes, which is so called **margin** we want to maximize. So, our objective becomes to maximize this margin by maximizing the $\\frac{2}{{\\left \\| w \\right \\|}}$ under the constraint that the samples are classified correctly. \n",
    "\n",
    "That is :\n",
    "\n",
    "1. $w_{0} + w^{T}x^{i} \\geq 1 $ if $y^{i} = 1$ \n",
    "\n",
    "2. $w_{0} + w^{T}x^{i} < -1 $ if $y^{i} = -1$ \n",
    "\n",
    "These two equations says that all the positive sample should fall behind the positive hyperplane and all negative samples should lie before the negative hyperplane. Or more simply if our net input after identity net function is greater than or equal to one it belongs to positive class else to negative class.In more compact form it can be written as :\n",
    "\n",
    "$y^{i}(w_{0} + w^{T}x^{i})\\geq 1\\forall _{i}$ , Now reciprocal term $\\frac{1}{2} \\left \\| w \\right \\|$ can minimized more easily using quadratic programming.\n",
    "\n",
    "### Dealing with nonlinearly seperable case using slack variables\n",
    "\n",
    "We don't dive more into the SVMs maths but lets understand slack variable $\\xi$. This led to the soft-margin classification. The reason behind introducing slack variable was that the linear constraints need to be relaxed for nonlinearly seperable data to allow convergence of the optimization in the presence of missclassfication. The linear equation can be changed easily.\n",
    "\n",
    "1. $w_{0} + w^{T}x^{i} \\geq 1 $ if $y^{i} = 1-\\xi^{i}$ \n",
    "\n",
    "2. $w_{0} + w^{T}x^{i} < -1 $ if $y^{i} = 1+\\xi^{i}$ \n",
    "\n",
    "So the new objective to be minimized becomes.\n",
    "\n",
    "$\\Rightarrow \\frac{1}{2}\\left \\| w \\right \\|^{2} + C(\\sum_{i}\\xi ^{i})$ \n",
    "\n",
    "** Using the value of C we can control the penalty for misclassification.** Large value of C correspond to large error penalties whereas we are less strict about misclassification for lower value of C. **We can use the C to control the width of the margin and tune bias-variance trade-off. Here on increasing the value of C we lower the bias and increase the variance. We can see below in image also.**\n",
    "\n",
    "<img src=\"https://raw.githubusercontent.com/rasbt/python-machine-learning-book/master/code/ch03/images/03_08.png\", style=\"width:500px\">"
   ]
  }
 ],
 "metadata": {
  "kernelspec": {
   "display_name": "Python 3",
   "language": "python",
   "name": "python3"
  },
  "language_info": {
   "codemirror_mode": {
    "name": "ipython",
    "version": 3
   },
   "file_extension": ".py",
   "mimetype": "text/x-python",
   "name": "python",
   "nbconvert_exporter": "python",
   "pygments_lexer": "ipython3",
   "version": "3.6.1"
  }
 },
 "nbformat": 4,
 "nbformat_minor": 2
}
